{
  "nbformat": 4,
  "nbformat_minor": 0,
  "metadata": {
    "colab": {
      "name": "CNN, FFNN, classical approaches.ipynb",
      "provenance": [],
      "collapsed_sections": [],
      "toc_visible": true,
      "machine_shape": "hm"
    },
    "kernelspec": {
      "name": "python3",
      "display_name": "Python 3"
    },
    "accelerator": "GPU"
  },
  "cells": [
    {
      "cell_type": "markdown",
      "metadata": {
        "id": "Cx5fP1q1GH4v",
        "colab_type": "text"
      },
      "source": [
        "# Importing and basic definitions"
      ]
    },
    {
      "cell_type": "code",
      "metadata": {
        "id": "FqhCZLCQDqF1",
        "colab_type": "code",
        "colab": {}
      },
      "source": [
        "import random\n",
        "\n",
        "import numpy as np\n",
        "\n",
        "import torch\n",
        "import torch.nn as nn\n",
        "import torch.optim as optim\n",
        "import torch.optim.lr_scheduler as scheduler\n",
        "import torch.nn.functional as F\n",
        "from scipy.stats.stats import pearsonr\n",
        "\n",
        "import spacy\n",
        "\n",
        "from nltk import download\n",
        "from nltk.corpus import stopwords\n",
        "\n",
        "# RMSE loss used for the training of the NN-based approaches  \n",
        "class RMSELoss(nn.Module):\n",
        "    def __init__(self):\n",
        "        super().__init__()\n",
        "        self.mse = nn.MSELoss()\n",
        "        \n",
        "    def forward(self,yhat,y):\n",
        "        return torch.sqrt(self.mse(yhat,y))"
      ],
      "execution_count": 0,
      "outputs": []
    },
    {
      "cell_type": "markdown",
      "metadata": {
        "id": "Yu6s3YOf_C93",
        "colab_type": "text"
      },
      "source": [
        "### Importing Data"
      ]
    },
    {
      "cell_type": "code",
      "metadata": {
        "id": "scs7ICZrPFcs",
        "colab_type": "code",
        "colab": {}
      },
      "source": [
        "# Download and unzip the competition data\n",
        "from os.path import exists\n",
        "if not exists('ende_data.zip'):\n",
        "    !wget -O ende_data.zip https://competitions.codalab.org/my/datasets/download/c748d2c0-d6be-4e36-9f12-ca0e88819c4d\n",
        "    !unzip ende_data.zip"
      ],
      "execution_count": 0,
      "outputs": []
    },
    {
      "cell_type": "markdown",
      "metadata": {
        "id": "wiFHVnfH_Jpv",
        "colab_type": "text"
      },
      "source": [
        "### Computing Sentence Embeddings "
      ]
    },
    {
      "cell_type": "code",
      "metadata": {
        "id": "96bRtBbuZLJe",
        "colab_type": "code",
        "colab": {}
      },
      "source": [
        "# Download the word embeddings from spaCy\n",
        "!spacy download en_core_web_md\n",
        "!spacy link en_core_web_md en300\n",
        "\n",
        "!spacy download de_core_news_md\n",
        "!spacy link de_core_news_md de300"
      ],
      "execution_count": 0,
      "outputs": []
    },
    {
      "cell_type": "markdown",
      "metadata": {
        "id": "k2J14y7nGWdb",
        "colab_type": "text"
      },
      "source": [
        "# Pre-processing"
      ]
    },
    {
      "cell_type": "markdown",
      "metadata": {
        "id": "nhT2I6WYavY4",
        "colab_type": "text"
      },
      "source": [
        "#### Pre-processing with Spacy"
      ]
    },
    {
      "cell_type": "code",
      "metadata": {
        "id": "19gsNCgnW8ZT",
        "colab_type": "code",
        "outputId": "6c0d5378-d4fe-4593-fce2-ef413d621b9d",
        "colab": {
          "base_uri": "https://localhost:8080/",
          "height": 51
        }
      },
      "source": [
        "# Downloads stopwords from nltk\n",
        "download('stopwords')\n",
        "\n",
        "# Get unique stopwords for English and German\n",
        "stop_words_en = set(stopwords.words('english'))\n",
        "stop_words_de = set(stopwords.words('german'))\n",
        "\n",
        "# Tokenizes and lemmatise the words of the sentence before getting the vector representation \n",
        "def get_sentence_emb(line,nlp,lang):\n",
        "    if lang == 'en':\n",
        "        text = line.lower()\n",
        "        l = [token.lemma_ for token in nlp.tokenizer(text)]\n",
        "        l = ' '.join([word for word in l if word not in stop_words_en])\n",
        "\n",
        "    elif lang == 'de':\n",
        "        text = line.lower()\n",
        "        l = [token.lemma_ for token in nlp.tokenizer(text)]\n",
        "        l = ' '.join([word for word in l if word not in stop_words_de])\n",
        "\n",
        "    sen = nlp(l)\n",
        "    return sen.vector\n",
        "\n",
        "# Given a file it produces vector representations for each sentence\n",
        "def get_embeddings(f,nlp,lang):\n",
        "    file = open(f) \n",
        "    lines = file.readlines() \n",
        "    sentences_vectors =[]\n",
        "\n",
        "    for l in lines:\n",
        "        vec = get_sentence_emb(l,nlp,lang)\n",
        "        if vec is not None:\n",
        "            # vec = np.mean(vec)\n",
        "            vec = vec\n",
        "            sentences_vectors.append(vec)\n",
        "        else:\n",
        "            sentences_vectors.append(0)\n",
        "\n",
        "    return sentences_vectors\n"
      ],
      "execution_count": 33,
      "outputs": [
        {
          "output_type": "stream",
          "text": [
            "[nltk_data] Downloading package stopwords to /root/nltk_data...\n",
            "[nltk_data]   Package stopwords is already up-to-date!\n"
          ],
          "name": "stdout"
        }
      ]
    },
    {
      "cell_type": "markdown",
      "metadata": {
        "id": "NUKMgbo2sreI",
        "colab_type": "text"
      },
      "source": [
        "#### Getting Training and Validation Sets"
      ]
    },
    {
      "cell_type": "code",
      "metadata": {
        "id": "GyJr7cIkQ3E8",
        "colab_type": "code",
        "colab": {}
      },
      "source": [
        "# Load spacy embeddings\n",
        "nlp_de = spacy.load('de300')\n",
        "nlp_en = spacy.load('en300')"
      ],
      "execution_count": 0,
      "outputs": []
    },
    {
      "cell_type": "code",
      "metadata": {
        "colab_type": "code",
        "id": "LwoUIDj0otbf",
        "colab": {}
      },
      "source": [
        "# gets the embeddings for training and validation\n",
        "de_train_src = get_embeddings(\"./train.ende.src\",nlp_en,'en')\n",
        "de_train_mt = get_embeddings(\"./train.ende.mt\",nlp_de,'de')\n",
        "\n",
        "f_train_scores = open(\"./train.ende.scores\",'r')\n",
        "de_train_scores = f_train_scores.readlines()\n",
        "\n",
        "de_val_src = get_embeddings(\"./dev.ende.src\",nlp_en,'en')\n",
        "de_val_mt = get_embeddings(\"./dev.ende.mt\",nlp_de,'de')\n",
        "\n",
        "# loads scores\n",
        "f_val_scores = open(\"./dev.ende.scores\",'r')\n",
        "de_val_scores = f_val_scores.readlines()"
      ],
      "execution_count": 0,
      "outputs": []
    },
    {
      "cell_type": "code",
      "metadata": {
        "id": "Px7ikaGoy9r0",
        "colab_type": "code",
        "colab": {}
      },
      "source": [
        "# Put the features into a torch Tensor with dimension (-1, 300 + 300)\n",
        "X_train = torch.cat((torch.tensor(de_train_src), torch.tensor(de_train_mt)), 1)\n",
        "\n",
        "X_val = torch.cat((torch.tensor(de_val_src), torch.tensor(de_val_mt)), 1)\n",
        "\n",
        "# Load the scores\n",
        "train_scores = torch.Tensor([float(t.strip()) for t in de_train_scores])\n",
        "y_train_de =train_scores\n",
        "\n",
        "val_scores = torch.Tensor([float(t.strip()) for t in de_val_scores])\n",
        "y_val_de = val_scores"
      ],
      "execution_count": 0,
      "outputs": []
    },
    {
      "cell_type": "markdown",
      "metadata": {
        "id": "SfPKnmpdGcOZ",
        "colab_type": "text"
      },
      "source": [
        "# FFNN-based approach"
      ]
    },
    {
      "cell_type": "code",
      "metadata": {
        "id": "pUvi5M5TQSWs",
        "colab_type": "code",
        "outputId": "5369c27e-1b23-41c0-ec3c-ca25b3a88e53",
        "colab": {
          "base_uri": "https://localhost:8080/",
          "height": 374
        }
      },
      "source": [
        "class FFNN(nn.Module):\n",
        "    def __init__(self, input_dim, hidden_dim, num_classes):  \n",
        "        super(FFNN, self).__init__()\n",
        "        \n",
        "        # hidden layer\n",
        "        self.fc1 = nn.Linear(input_dim, hidden_dim)\n",
        "        self.fc2 = nn.Linear(hidden_dim, hidden_dim)\n",
        "        # output layer\n",
        "        self.fc3 = nn.Linear(hidden_dim, num_classes)  \n",
        "    \n",
        "    def forward(self, x):\n",
        "        out = F.leaky_relu(self.fc1(x))\n",
        "        out = F.leaky_relu(self.fc2(out))\n",
        "        out = self.fc3(out)\n",
        "        return out\n",
        "\n",
        "# for testing purposes\n",
        "def PearsonLoss(x, y):\n",
        "    vx = x - torch.mean(x)\n",
        "    vy = y - torch.mean(y)    \n",
        "    return (torch.ones(1).cuda() - torch.sum(vx * vy * torch.rsqrt(torch.sum(vx ** 2)) * torch.rsqrt(torch.sum(vy ** 2))))**2\n",
        "\n",
        "EPOCHS = 1000\n",
        "LRATE = 0.001\n",
        "EMBEDDING_DIM = 50\n",
        "HIDDEN_DIM = 100\n",
        "OUTPUT_DIM = 1\n",
        "\n",
        "model = FFNN(600, HIDDEN_DIM, OUTPUT_DIM)\n",
        "optimizer = optim.Adam(model.parameters(), lr=LRATE)\n",
        "\n",
        "\n",
        "loss_fn = RMSELoss()\n",
        "\n",
        "# Input and label tensors\n",
        "feature = X_train\n",
        "target = train_scores\n",
        "validation = X_val\n",
        "val_labels = val_scores\n",
        "\n",
        "## Training loop\n",
        "print(f'Will train for {EPOCHS} epochs')\n",
        "for epoch in range(1, EPOCHS + 1):\n",
        "    model.train()\n",
        "    optimizer.zero_grad()\n",
        "  \n",
        "    predictions = model(feature).squeeze(1)\n",
        "\n",
        "    loss = loss_fn(predictions, target)\n",
        "    train_loss = loss.item()\n",
        "\n",
        "    loss.backward()\n",
        "\n",
        "    optimizer.step()\n",
        "    \n",
        "    # Every 50 epochs prints the current loss and validation loss and correlation\n",
        "    if epoch % 50 == 0 and epoch != 0:\n",
        "        with torch.no_grad():\n",
        "            v_pred = model(validation).squeeze(1)\n",
        "            v_loss = loss_fn(v_pred, val_labels)\n",
        "            val_loss = v_loss.item()\n",
        "            print(f'| Epoch: {epoch:02d} | Train Loss: {train_loss:.3f} | Validation Loss: {val_loss:.3f} | Pearson Val: {pearsonr(v_pred, val_labels)[0]}')"
      ],
      "execution_count": 39,
      "outputs": [
        {
          "output_type": "stream",
          "text": [
            "Will train for 1000 epochs\n",
            "| Epoch: 50 | Train Loss: 0.699 | Validation Loss: 0.899 | Pearson Val: 0.06956420809863421\n",
            "| Epoch: 100 | Train Loss: 0.456 | Validation Loss: 0.986 | Pearson Val: 0.05335538318104857\n",
            "| Epoch: 150 | Train Loss: 0.286 | Validation Loss: 1.024 | Pearson Val: 0.024140525071744322\n",
            "| Epoch: 200 | Train Loss: 0.196 | Validation Loss: 1.046 | Pearson Val: 0.00995131795386998\n",
            "| Epoch: 250 | Train Loss: 0.156 | Validation Loss: 1.058 | Pearson Val: -0.004926421229309887\n",
            "| Epoch: 300 | Train Loss: 0.157 | Validation Loss: 1.070 | Pearson Val: -0.014373878820719365\n",
            "| Epoch: 350 | Train Loss: 0.116 | Validation Loss: 1.077 | Pearson Val: -0.018914876224661693\n",
            "| Epoch: 400 | Train Loss: 0.102 | Validation Loss: 1.082 | Pearson Val: -0.022042178423698815\n",
            "| Epoch: 450 | Train Loss: 0.089 | Validation Loss: 1.086 | Pearson Val: -0.02422973110266329\n",
            "| Epoch: 500 | Train Loss: 0.083 | Validation Loss: 1.088 | Pearson Val: -0.026289212891855162\n",
            "| Epoch: 550 | Train Loss: 0.077 | Validation Loss: 1.090 | Pearson Val: -0.02762422103577599\n",
            "| Epoch: 600 | Train Loss: 0.072 | Validation Loss: 1.091 | Pearson Val: -0.02873110262720586\n",
            "| Epoch: 650 | Train Loss: 0.068 | Validation Loss: 1.092 | Pearson Val: -0.029632130867794496\n",
            "| Epoch: 700 | Train Loss: 0.064 | Validation Loss: 1.093 | Pearson Val: -0.03026760874066394\n",
            "| Epoch: 750 | Train Loss: 0.061 | Validation Loss: 1.093 | Pearson Val: -0.030638056157602154\n",
            "| Epoch: 800 | Train Loss: 0.059 | Validation Loss: 1.094 | Pearson Val: -0.03113980580073834\n",
            "| Epoch: 850 | Train Loss: 0.057 | Validation Loss: 1.094 | Pearson Val: -0.03145211098741701\n",
            "| Epoch: 900 | Train Loss: 0.055 | Validation Loss: 1.094 | Pearson Val: -0.031590167695370944\n",
            "| Epoch: 950 | Train Loss: 0.053 | Validation Loss: 1.095 | Pearson Val: -0.031916654259881175\n",
            "| Epoch: 1000 | Train Loss: 0.052 | Validation Loss: 1.095 | Pearson Val: -0.03215584744133842\n"
          ],
          "name": "stdout"
        }
      ]
    },
    {
      "cell_type": "markdown",
      "metadata": {
        "id": "YdAAds8zGwX2",
        "colab_type": "text"
      },
      "source": [
        "# CNN-based approach"
      ]
    },
    {
      "cell_type": "code",
      "metadata": {
        "id": "m-MLg8iLbH3P",
        "colab_type": "code",
        "colab": {}
      },
      "source": [
        "# CNN designed for text in the shape (-1, 1, 2, 300). This treats the text\n",
        "# as a 2x300 image on which the convolutions are applied.\n",
        "\n",
        "class CNN(nn.Module):\n",
        "  def __init__(self, window_size, output_dim, dropout):\n",
        "    super(CNN, self).__init__()\n",
        "    \n",
        "    self.conv1 = nn.Conv2d(\n",
        "      in_channels=1, out_channels=64,\n",
        "      kernel_size=(2, window_size), padding=(1,0))\n",
        "    \n",
        "    self.bn1 = nn.BatchNorm2d(64)\n",
        "\n",
        "    self.conv2 = nn.Conv2d(\n",
        "      in_channels=64, out_channels=32,\n",
        "      kernel_size=(2, window_size), padding=(1,0))\n",
        "    \n",
        "    self.bn2 = nn.BatchNorm2d(32)\n",
        "    self.dropout = nn.Dropout(dropout)\n",
        "\n",
        "    self.fc = nn.Linear(3840, output_dim)\n",
        "    self.mp = nn.MaxPool2d((2,5),padding=(1,0))\n",
        "        \n",
        "  def forward(self, x):\n",
        "    o = self.conv1(x)\n",
        "    o = self.bn1(o)\n",
        "    o = F.leaky_relu(o)\n",
        "\n",
        "    o = self.conv2(o)\n",
        "    o = self.bn2(o)\n",
        "    o = F.leaky_relu(o)\n",
        "\n",
        "    pooled = self.mp(o)\n",
        "    \n",
        "    pooled = pooled.view(x.shape[0],-1)\n",
        "    \n",
        "    dropped = self.dropout(pooled)\n",
        "    preds = self.fc(dropped)\n",
        "    \n",
        "    return preds"
      ],
      "execution_count": 0,
      "outputs": []
    },
    {
      "cell_type": "code",
      "metadata": {
        "id": "noD7FWKjXuOX",
        "colab_type": "code",
        "colab": {}
      },
      "source": [
        "# For the CNN we need the text in the shape (samples, 1, 2, 600)\n",
        "X_train = torch.cat((torch.tensor(de_train_src).view(7000,1,1,300), torch.tensor(de_train_mt).view(7000,1,1,300)), 2)\n",
        "X_val = torch.cat((torch.tensor(de_val_src).view(1000,1,1,300), torch.tensor(de_val_mt).view(1000,1,1,300)), 2)\n",
        "\n",
        "#Scores\n",
        "train_scores = torch.Tensor([float(t.strip()) for t in de_train_scores])\n",
        "y_train_de =train_scores\n",
        "\n",
        "val_scores = torch.Tensor([float(t.strip()) for t in de_val_scores])\n",
        "y_val_de = val_scores"
      ],
      "execution_count": 0,
      "outputs": []
    },
    {
      "cell_type": "code",
      "metadata": {
        "id": "mqVASrRZDfZS",
        "colab_type": "code",
        "colab": {}
      },
      "source": [
        "# all the data, used for multiple validations later on\n",
        "all_x = torch.cat([X_train, X_val], 0)\n",
        "all_scores = torch.cat([train_scores, val_scores], 0)"
      ],
      "execution_count": 0,
      "outputs": []
    },
    {
      "cell_type": "code",
      "metadata": {
        "id": "CamrpR9fbVRb",
        "colab_type": "code",
        "colab": {}
      },
      "source": [
        "from copy import deepcopy\n",
        "\n",
        "device = torch.device('cuda')\n",
        "EPOCHS = 50\n",
        "LRATE = 2e-4\n",
        "\n",
        "EMBEDDING_DIM = 50\n",
        "OUTPUT_DIM = 1\n",
        "BATCH_SIZE = 64\n",
        "\n",
        "# keep track of best ever\n",
        "best_RMSE_val = 1000\n",
        "best_model = None\n",
        "\n",
        "while True:\n",
        "    # create random data split\n",
        "    idxs = np.random.permutation(all_x.shape[0])\n",
        "    model = CNN(window_size=50, output_dim=1, dropout=0.2).cuda()\n",
        "\n",
        "    optimizer = optim.Adam(model.parameters(), lr=LRATE)\n",
        "    loss_fn = RMSELoss()\n",
        "\n",
        "    feature_train = all_x[idxs[:7000]]\n",
        "    target_train = all_scores[idxs[:7000]]\n",
        "\n",
        "    feature_valid1 = all_x[idxs[7000:7500]]\n",
        "    target_valid1 = all_scores[idxs[7000:7500]]\n",
        "\n",
        "    feature_valid2 = all_x[idxs[7500:]]\n",
        "    target_valid2 = all_scores[idxs[7500:]]\n",
        "\n",
        "    # keeps track of old model\n",
        "    old_model = deepcopy(model)\n",
        "    old_loss = 10000\n",
        "\n",
        "    print(f'Will train for {EPOCHS} epochs')\n",
        "    break_out = False\n",
        "    counter = 0\n",
        "    for epoch in range(EPOCHS):\n",
        "        t = torch.randperm(7000)\n",
        "        feature_train = feature_train[t]\n",
        "        target_train = target_train[t]\n",
        "        model.train()\n",
        "        \n",
        "        i = 0\n",
        "        new_loss = 0\n",
        "\n",
        "        for i in range(7000//BATCH_SIZE - 1):\n",
        "            train = feature_train[BATCH_SIZE*i:BATCH_SIZE*(i+1)]\n",
        "            labels = target_train[BATCH_SIZE*i:BATCH_SIZE*(i+1)]\n",
        "            \n",
        "            optimizer.zero_grad()\n",
        "\n",
        "            predictions = model(train.cuda()).squeeze(1)\n",
        "            loss = loss_fn(predictions, labels.cuda())\n",
        "            train_loss = loss.item()\n",
        "            \n",
        "            new_loss += train_loss\n",
        "\n",
        "            loss.backward()\n",
        "\n",
        "            optimizer.step()\n",
        "\n",
        "        if new_loss > old_loss: # if it didn't improve\n",
        "            model = old_model # reload previous model\n",
        "            LRATE *= 0.75 # decrease the learning rate\n",
        "            for g in optimizer.param_groups:\n",
        "                g['lr'] = LRATE\n",
        "            counter += 1\n",
        "\n",
        "            if counter > 15: # if there haven't been any improvement stop\n",
        "                break_out = True\n",
        "        else: # if there was an improvement\n",
        "            old_model = deepcopy(model) # save the current model\n",
        "            old_loss = new_loss # and the current loss\n",
        "            counter = 0\n",
        "\n",
        "        with torch.no_grad():\n",
        "            predictions_valid1 = model(feature_valid1.cuda()).squeeze(1)\n",
        "            valid_loss1 = loss_fn(predictions_valid1, target_valid1.cuda()).item()\n",
        "\n",
        "            predictions_valid2 = model(feature_valid2.cuda()).squeeze(1)\n",
        "            valid_loss2 = loss_fn(predictions_valid2, target_valid2.cuda()).item()\n",
        "            \n",
        "        # print validation loss and correlation\n",
        "        if epoch % 1 == 0 and epoch != 0:\n",
        "            print(f'| Epoch: {epoch:02} | Train Loss: {new_loss / (7000 // BATCH_SIZE):.3f} | Val. Loss 1: {valid_loss1:.3f} |  Val. Loss 2: {valid_loss2:.3f} | Pearson Val: {pearsonr(predictions_valid.cpu(), target_valid.cpu())[0]}')\n",
        "\n",
        "        # breaks if no improvement\n",
        "        if break_out:\n",
        "            with torch.no_grad():\n",
        "                predictions_valid = model(feature_valid.cuda()).squeeze(1)\n",
        "                valid_loss = loss_fn(predictions_valid, target_valid.cuda()).item()\n",
        "            \n",
        "            if valid_loss <= best_RMSE_val:\n",
        "                best_RMSE_val = valid_loss\n",
        "                best_model = deepcopy(model)\n",
        "                torch.save({\n",
        "                    'model_state_dict': model.state_dict(),\n",
        "                    'optimizer_state_dict': optimizer.state_dict(),\n",
        "                    'best_RMSE_val': best_RMSE_val,\n",
        "                    }, \"./model.pth\")\n",
        "                \n",
        "            print(f\"Restarting - best val loss: {best_RMSE_val}\")\n",
        "\n",
        "            break"
      ],
      "execution_count": 0,
      "outputs": []
    },
    {
      "cell_type": "markdown",
      "metadata": {
        "id": "J0aEg-0aHMFu",
        "colab_type": "text"
      },
      "source": [
        "# Classical approaches"
      ]
    },
    {
      "cell_type": "code",
      "metadata": {
        "id": "dRcegRvW2F2q",
        "colab_type": "code",
        "colab": {}
      },
      "source": [
        "def rmse(predictions, targets):\n",
        "    return np.sqrt(((predictions - targets) ** 2).mean())"
      ],
      "execution_count": 0,
      "outputs": []
    },
    {
      "cell_type": "markdown",
      "metadata": {
        "id": "OYIEIphiHbuD",
        "colab_type": "text"
      },
      "source": [
        "## SVR - hyperparameter search and averaging"
      ]
    },
    {
      "cell_type": "code",
      "metadata": {
        "id": "QiHCkGUgsJ8r",
        "colab_type": "code",
        "colab": {}
      },
      "source": [
        "from sklearn.svm import SVR\n",
        "from scipy.stats.stats import pearsonr\n",
        "\n",
        "# save results for averages\n",
        "results = [0,0,0,0,0,0]\n",
        "\n",
        "n = 5 # number of iterations to average over\n",
        "d = 12 # degree of poly kernel\n",
        "\n",
        "for i in range(n):\n",
        "    # create a random split for training and validation\n",
        "    idxs = np.random.permutation(all_x.shape[0])\n",
        "\n",
        "    feature_train = all_x[idxs[:7000]].view(7000,-1)\n",
        "    target_train = all_scores[idxs[:7000]].view(7000)\n",
        "\n",
        "    feature_valid1 = all_x[idxs[7000:7500]].view(500,-1)\n",
        "    target_valid1 = all_scores[idxs[7000:7500]].view(500)\n",
        "\n",
        "    feature_valid2 = all_x[idxs[7500:]].view(500,-1)\n",
        "    target_valid2 = all_scores[idxs[7500:]].view(500)\n",
        "\n",
        "    for j, c in enumerate(range(2, 22, 2)):\n",
        "        c /= 10\n",
        "        k = 'rbf' # can be changed manually\n",
        "\n",
        "        clf_t = SVR(kernel=k, C=c, degree=12)\n",
        "        clf_t.fit(feature_train, target_train)\n",
        "        \n",
        "        predictions1 = clf_t.predict(feature_valid1)\n",
        "        pearson1 = pearsonr(target_valid1, torch.Tensor(predictions1))\n",
        "        predictions2 = clf_t.predict(feature_valid2)\n",
        "        pearson2 = pearsonr(target_valid2, torch.Tensor(predictions2))\n",
        "        \n",
        "        print(f'C: {c} | Pearson1 {pearson1[0]} | Pearson2 {pearson2[0]}')\n",
        "        results[j] += (pearson1[0] + pearson2[0]) / 2\n",
        "\n",
        "_ = [print(x/n) for x in results]"
      ],
      "execution_count": 0,
      "outputs": []
    },
    {
      "cell_type": "markdown",
      "metadata": {
        "id": "qg9YSBUG1zaL",
        "colab_type": "text"
      },
      "source": [
        "## Random Forest Forest"
      ]
    },
    {
      "cell_type": "code",
      "metadata": {
        "id": "VOld4zbmsOGL",
        "colab_type": "code",
        "outputId": "152be5ed-0ea6-45ee-93f1-fccfd2288bdf",
        "colab": {
          "base_uri": "https://localhost:8080/",
          "height": 34
        }
      },
      "source": [
        "from sklearn.ensemble import RandomForestRegressor\n",
        "\n",
        "# produce a random split\n",
        "idxs = np.random.permutation(all_x.shape[0])\n",
        "\n",
        "feature_train = all_x[idxs[:7000]].view(7000,-1)\n",
        "target_train = all_scores[idxs[:7000]].view(7000)\n",
        "\n",
        "feature_valid1 = all_x[idxs[7000:7500]].view(500,-1)\n",
        "target_valid1 = all_scores[idxs[7000:7500]].view(500)\n",
        "\n",
        "feature_valid2 = all_x[idxs[7500:]].view(500,-1)\n",
        "target_valid2 = all_scores[idxs[7500:]].view(500)\n",
        "\n",
        "\n",
        "rf = RandomForestRegressor(n_estimators = 1000,\n",
        "                           max_depth=5)\n",
        "\n",
        "rf.fit(feature_train, target_train);\n",
        "\n",
        "predictions1 = rf.predict(feature_valid1)\n",
        "pearson1 = pearsonr(target_valid1, torch.Tensor(predictions1))\n",
        "predictions2 = rf.predict(feature_valid2)\n",
        "pearson2 = pearsonr(target_valid2, torch.Tensor(predictions2))\n",
        "print(f'Pearson1 {pearson1[0]} | Pearson2 {pearson2[0]}')"
      ],
      "execution_count": 50,
      "outputs": [
        {
          "output_type": "stream",
          "text": [
            "Pearson1 0.10855455169173049 | Pearson2 -0.008460092829643846\n"
          ],
          "name": "stdout"
        }
      ]
    },
    {
      "cell_type": "markdown",
      "metadata": {
        "id": "7jcVMR-jIFp_",
        "colab_type": "text"
      },
      "source": [
        "## Regression methods"
      ]
    },
    {
      "cell_type": "code",
      "metadata": {
        "id": "lQn4qwbzm3ZU",
        "colab_type": "code",
        "colab": {}
      },
      "source": [
        "from sklearn.linear_model import ElasticNetCV, LassoCV, LassoLarsCV, LassoLarsIC, OrthogonalMatchingPursuitCV, ARDRegression, BayesianRidge\n",
        "\n",
        "# tests a variety of methods, take the best on average\n",
        "methods = [ElasticNetCV(), LassoCV(), LassoLarsCV(), LassoLarsIC(), OrthogonalMatchingPursuitCV(), BayesianRidge(n_iter=1000)]\n",
        "results = [0,0,0,0,0,0]\n",
        "n = 10\n",
        "for i in range(n):\n",
        "    print(i)\n",
        "    idxs = np.random.permutation(all_x.shape[0])\n",
        "\n",
        "    trainx = all_x[idxs[:6000]].view(6000, -1)\n",
        "    tscores = all_scores[idxs[:6000]].view(6000)\n",
        "\n",
        "    valx1 = all_x[idxs[6000:7000]].view(1000,-1)\n",
        "    val_scores1 = all_scores[idxs[6000:7000]].view(1000)\n",
        "\n",
        "    valx2 = all_x[idxs[7000:]].view(1000,-1)\n",
        "    val_scores2 = all_scores[idxs[7000:]].view(1000)\n",
        "\n",
        "    for j, m in enumerate(methods[::-1]):\n",
        "        m.fit(trainx, tscores)\n",
        "        predictions1 = m.predict(valx2)\n",
        "        pearson1 = pearsonr(val_scores1, torch.Tensor(predictions1))\n",
        "        predictions2 = m.predict(valx2)\n",
        "        pearson2 = pearsonr(val_scores2, torch.Tensor(predictions2))\n",
        "        results[j] += (pearson1[0] + pearson2[0]) / 2\n",
        "        # print(f'Pearson1 {pearson1[0]} | Pearson2 {pearson2[0]}')\n",
        "\n",
        "print([r / n for r in results])"
      ],
      "execution_count": 0,
      "outputs": []
    },
    {
      "cell_type": "markdown",
      "metadata": {
        "id": "7MUrD-RWItin",
        "colab_type": "text"
      },
      "source": [
        "## Scores visualisation"
      ]
    },
    {
      "cell_type": "code",
      "metadata": {
        "id": "Jec9LRAkxVpn",
        "colab_type": "code",
        "outputId": "1156a2a3-223b-40b4-9c13-146c5c67fad7",
        "colab": {
          "base_uri": "https://localhost:8080/",
          "height": 483
        }
      },
      "source": [
        "# just used to visualise the dristribution of the scores\n",
        "from sklearn.decomposition import KernelPCA\n",
        "import matplotlib.pyplot as plt\n",
        "\n",
        "kpca = KernelPCA(1, kernel='rbf')\n",
        "low = kpca.fit_transform(all_x.view(8000, -1))\n",
        "\n",
        "plt.figure(figsize=(12,8))\n",
        "plt.grid()\n",
        "\n",
        "guess = np.zeros(8000) + np.random.normal(0.2, 0.25, size=(8000,))\n",
        "\n",
        "plt.scatter(low[:,0], guess, s=5, marker='.', alpha=.5)\n",
        "plt.scatter(low[:,0], all_scores, s=5, marker='.', alpha=.5)\n",
        "\n",
        "plt.savefig('random_scores.pdf', format='pdf')"
      ],
      "execution_count": 53,
      "outputs": [
        {
          "output_type": "display_data",
          "data": {
            "image/png": "[encoded data removed]",
            "text/plain": [
              "<Figure size 864x576 with 1 Axes>"
            ]
          },
          "metadata": {
            "tags": []
          }
        }
      ]
    },
    {
      "cell_type": "markdown",
      "metadata": {
        "id": "Qooe0yL0JBK1",
        "colab_type": "text"
      },
      "source": [
        "# Writing scores for submission"
      ]
    },
    {
      "cell_type": "code",
      "metadata": {
        "id": "LN3NtkF4kPxw",
        "colab_type": "code",
        "colab": {}
      },
      "source": [
        "import os\n",
        "\n",
        "def writeScores(method_name, scores):\n",
        "    fn = \"predictions.txt\"\n",
        "    print(\"\")\n",
        "    with open(fn, 'w') as output_file:\n",
        "        for idx,x in enumerate(scores):\n",
        "            #out =  metrics[idx]+\":\"+str(\"{0:.2f}\".format(x))+\"\\n\"\n",
        "            #print(out)\n",
        "            output_file.write(f\"{x}\\n\")"
      ],
      "execution_count": 0,
      "outputs": []
    },
    {
      "cell_type": "code",
      "metadata": {
        "id": "FVss_RLBkFei",
        "colab_type": "code",
        "colab": {}
      },
      "source": [
        "enet = ElasticNetCV()\n",
        "enet.fit(all_x.view(8000, -1), all_scores)\n",
        "\n",
        "predictions_de = enet.predict(de_test)"
      ],
      "execution_count": 0,
      "outputs": []
    },
    {
      "cell_type": "code",
      "metadata": {
        "id": "XWnNUR0Gku_9",
        "colab_type": "code",
        "outputId": "19907fd0-6ebc-4db2-b2e6-a12465b45a44",
        "colab": {
          "base_uri": "https://localhost:8080/",
          "height": 34
        }
      },
      "source": [
        "from google.colab import files\n",
        "from zipfile import ZipFile\n",
        "\n",
        "writeScores(\"enet\",predictions_de)"
      ],
      "execution_count": 27,
      "outputs": [
        {
          "output_type": "stream",
          "text": [
            "\n"
          ],
          "name": "stdout"
        }
      ]
    }
  ]
}